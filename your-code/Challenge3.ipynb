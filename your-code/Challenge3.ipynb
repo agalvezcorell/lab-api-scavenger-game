{
 "cells": [
  {
   "cell_type": "code",
   "execution_count": 1,
   "metadata": {},
   "outputs": [
    {
     "data": {
      "text/plain": [
       "True"
      ]
     },
     "execution_count": 1,
     "metadata": {},
     "output_type": "execute_result"
    }
   ],
   "source": [
    "import os\n",
    "import base64\n",
    "import pandas as pd\n",
    "from dotenv import load_dotenv\n",
    "import json\n",
    "import requests\n",
    "import re\n",
    "load_dotenv()"
   ]
  },
  {
   "cell_type": "code",
   "execution_count": 2,
   "metadata": {},
   "outputs": [],
   "source": [
    "url_contenidos = \"/repos/ironhack-datalabs/scavenger/contents?extension:scavengerhunt\""
   ]
  },
  {
   "cell_type": "code",
   "execution_count": 3,
   "metadata": {},
   "outputs": [],
   "source": [
    "def requestGithub (endpoint):\n",
    "    token = os.getenv(\"GITHUB_APIKEY\")\n",
    "    if not token:\n",
    "        raise ValueError (\"Necesitas un token\")\n",
    "    direccion=\"https://api.github.com\"\n",
    "    url = direccion+endpoint\n",
    "\n",
    "    print(f\"Haciendo request a {url}\")\n",
    "    headers = {\n",
    "        \"Authorization\": f\"token {token}\"}\n",
    "\n",
    "    res = requests.get(url, headers=headers)\n",
    "    return res.json()"
   ]
  },
  {
   "cell_type": "code",
   "execution_count": 4,
   "metadata": {},
   "outputs": [
    {
     "name": "stdout",
     "output_type": "stream",
     "text": [
      "Haciendo request a https://api.github.com/repos/ironhack-datalabs/scavenger/contents?extension:scavengerhunt\n"
     ]
    }
   ],
   "source": [
    "contenidos_json = requestGithub(url_contenidos)"
   ]
  },
  {
   "cell_type": "code",
   "execution_count": 5,
   "metadata": {},
   "outputs": [
    {
     "name": "stdout",
     "output_type": "stream",
     "text": [
      "26\n"
     ]
    }
   ],
   "source": [
    "print(len(contenidos_json))"
   ]
  },
  {
   "cell_type": "code",
   "execution_count": 6,
   "metadata": {},
   "outputs": [],
   "source": [
    "carpetas = [e [\"name\"] for e in contenidos_json]\n",
    "carpetasbien = carpetas[1::]"
   ]
  },
  {
   "cell_type": "code",
   "execution_count": 7,
   "metadata": {},
   "outputs": [
    {
     "name": "stdout",
     "output_type": "stream",
     "text": [
      "['15024', '15534', '17020', '30351', '40303', '44639', '45525', '47222', '47830', '49418', '50896', '55417', '55685', '60224', '64880', '66032', '68848', '70751', '70985', '88596', '89046', '89338', '91701', '97881', '98750']\n"
     ]
    }
   ],
   "source": [
    "print(carpetasbien)"
   ]
  },
  {
   "cell_type": "code",
   "execution_count": 8,
   "metadata": {},
   "outputs": [],
   "source": [
    "url_contenidos = \"/repos/ironhack-datalabs/scavenger/contents/\""
   ]
  },
  {
   "cell_type": "code",
   "execution_count": 9,
   "metadata": {},
   "outputs": [],
   "source": [
    "def requestGithub (carpeta):\n",
    "    token = os.getenv(\"GITHUB_APIKEY\")\n",
    "    if not token:\n",
    "        raise ValueError (\"Necesitas un token\")\n",
    "    direccion=f\"https://api.github.com/repos/ironhack-datalabs/scavenger/contents/{carpeta}\"\n",
    "    url = direccion\n",
    "\n",
    "    print(f\"Haciendo request a {url}\")\n",
    "    headers = {\n",
    "        \"Authorization\": f\"token {token}\"}\n",
    "\n",
    "    res = requests.get(url, headers=headers)\n",
    "    return res.json()"
   ]
  },
  {
   "cell_type": "code",
   "execution_count": 10,
   "metadata": {},
   "outputs": [
    {
     "name": "stdout",
     "output_type": "stream",
     "text": [
      "Haciendo request a https://api.github.com/repos/ironhack-datalabs/scavenger/contents/15024\n",
      "Haciendo request a https://api.github.com/repos/ironhack-datalabs/scavenger/contents/15534\n",
      "Haciendo request a https://api.github.com/repos/ironhack-datalabs/scavenger/contents/17020\n",
      "Haciendo request a https://api.github.com/repos/ironhack-datalabs/scavenger/contents/30351\n",
      "Haciendo request a https://api.github.com/repos/ironhack-datalabs/scavenger/contents/40303\n",
      "Haciendo request a https://api.github.com/repos/ironhack-datalabs/scavenger/contents/44639\n",
      "Haciendo request a https://api.github.com/repos/ironhack-datalabs/scavenger/contents/45525\n",
      "Haciendo request a https://api.github.com/repos/ironhack-datalabs/scavenger/contents/47222\n",
      "Haciendo request a https://api.github.com/repos/ironhack-datalabs/scavenger/contents/47830\n",
      "Haciendo request a https://api.github.com/repos/ironhack-datalabs/scavenger/contents/49418\n",
      "Haciendo request a https://api.github.com/repos/ironhack-datalabs/scavenger/contents/50896\n",
      "Haciendo request a https://api.github.com/repos/ironhack-datalabs/scavenger/contents/55417\n",
      "Haciendo request a https://api.github.com/repos/ironhack-datalabs/scavenger/contents/55685\n",
      "Haciendo request a https://api.github.com/repos/ironhack-datalabs/scavenger/contents/60224\n",
      "Haciendo request a https://api.github.com/repos/ironhack-datalabs/scavenger/contents/64880\n",
      "Haciendo request a https://api.github.com/repos/ironhack-datalabs/scavenger/contents/66032\n",
      "Haciendo request a https://api.github.com/repos/ironhack-datalabs/scavenger/contents/68848\n",
      "Haciendo request a https://api.github.com/repos/ironhack-datalabs/scavenger/contents/70751\n",
      "Haciendo request a https://api.github.com/repos/ironhack-datalabs/scavenger/contents/70985\n",
      "Haciendo request a https://api.github.com/repos/ironhack-datalabs/scavenger/contents/88596\n",
      "Haciendo request a https://api.github.com/repos/ironhack-datalabs/scavenger/contents/89046\n",
      "Haciendo request a https://api.github.com/repos/ironhack-datalabs/scavenger/contents/89338\n",
      "Haciendo request a https://api.github.com/repos/ironhack-datalabs/scavenger/contents/91701\n",
      "Haciendo request a https://api.github.com/repos/ironhack-datalabs/scavenger/contents/97881\n",
      "Haciendo request a https://api.github.com/repos/ironhack-datalabs/scavenger/contents/98750\n"
     ]
    }
   ],
   "source": [
    "archivos_json = list(map(requestGithub,carpetasbien))"
   ]
  },
  {
   "cell_type": "code",
   "execution_count": 31,
   "metadata": {},
   "outputs": [
    {
     "name": "stdout",
     "output_type": "stream",
     "text": [
      "['15024/.0006.scavengerhunt', '15534/.0008.scavengerhunt', '15534/.0012.scavengerhunt', '17020/.0007.scavengerhunt', '30351/.0021.scavengerhunt', '40303/.0022.scavengerhunt', '44639/.0005.scavengerhunt', '45525/.0018.scavengerhunt', '47222/.0016.scavengerhunt', '47222/.0024.scavengerhunt', '47830/.0010.scavengerhunt', '49418/.0014.scavengerhunt', '50896/.0011.scavengerhunt', '55417/.0023.scavengerhunt', '55685/.0020.scavengerhunt', '60224/.0003.scavengerhunt', '68848/.0004.scavengerhunt', '70751/.0019.scavengerhunt', '70985/.0017.scavengerhunt', '88596/.0002.scavengerhunt', '89338/.0013.scavengerhunt', '91701/.0015.scavengerhunt', '97881/.0009.scavengerhunt', '98750/.0001.scavengerhunt']\n"
     ]
    }
   ],
   "source": [
    "archivo = [ar[\"path\"] for x in archivos_json for ar in x ]\n",
    "archivobien = [a for a in archivo if \".scavengerhunt\" in a]\n",
    "print(archivobien)"
   ]
  },
  {
   "cell_type": "code",
   "execution_count": 32,
   "metadata": {},
   "outputs": [],
   "source": [
    "ordenado = sorted(archivobien,key=lambda x: (x[9],x[10]))"
   ]
  },
  {
   "cell_type": "code",
   "execution_count": 33,
   "metadata": {},
   "outputs": [
    {
     "name": "stdout",
     "output_type": "stream",
     "text": [
      "['98750/.0001.scavengerhunt', '88596/.0002.scavengerhunt', '60224/.0003.scavengerhunt', '68848/.0004.scavengerhunt', '44639/.0005.scavengerhunt', '15024/.0006.scavengerhunt', '17020/.0007.scavengerhunt', '15534/.0008.scavengerhunt', '97881/.0009.scavengerhunt', '47830/.0010.scavengerhunt', '50896/.0011.scavengerhunt', '15534/.0012.scavengerhunt', '89338/.0013.scavengerhunt', '49418/.0014.scavengerhunt', '91701/.0015.scavengerhunt', '47222/.0016.scavengerhunt', '70985/.0017.scavengerhunt', '45525/.0018.scavengerhunt', '70751/.0019.scavengerhunt', '55685/.0020.scavengerhunt', '30351/.0021.scavengerhunt', '40303/.0022.scavengerhunt', '55417/.0023.scavengerhunt', '47222/.0024.scavengerhunt']\n"
     ]
    }
   ],
   "source": [
    "print(ordenado)"
   ]
  },
  {
   "cell_type": "code",
   "execution_count": 34,
   "metadata": {},
   "outputs": [
    {
     "name": "stdout",
     "output_type": "stream",
     "text": [
      "Haciendo request a https://api.github.com/repos/ironhack-datalabs/scavenger/contents/98750/.0001.scavengerhunt\n",
      "Haciendo request a https://api.github.com/repos/ironhack-datalabs/scavenger/contents/88596/.0002.scavengerhunt\n",
      "Haciendo request a https://api.github.com/repos/ironhack-datalabs/scavenger/contents/60224/.0003.scavengerhunt\n",
      "Haciendo request a https://api.github.com/repos/ironhack-datalabs/scavenger/contents/68848/.0004.scavengerhunt\n",
      "Haciendo request a https://api.github.com/repos/ironhack-datalabs/scavenger/contents/44639/.0005.scavengerhunt\n",
      "Haciendo request a https://api.github.com/repos/ironhack-datalabs/scavenger/contents/15024/.0006.scavengerhunt\n",
      "Haciendo request a https://api.github.com/repos/ironhack-datalabs/scavenger/contents/17020/.0007.scavengerhunt\n",
      "Haciendo request a https://api.github.com/repos/ironhack-datalabs/scavenger/contents/15534/.0008.scavengerhunt\n",
      "Haciendo request a https://api.github.com/repos/ironhack-datalabs/scavenger/contents/97881/.0009.scavengerhunt\n",
      "Haciendo request a https://api.github.com/repos/ironhack-datalabs/scavenger/contents/47830/.0010.scavengerhunt\n",
      "Haciendo request a https://api.github.com/repos/ironhack-datalabs/scavenger/contents/50896/.0011.scavengerhunt\n",
      "Haciendo request a https://api.github.com/repos/ironhack-datalabs/scavenger/contents/15534/.0012.scavengerhunt\n",
      "Haciendo request a https://api.github.com/repos/ironhack-datalabs/scavenger/contents/89338/.0013.scavengerhunt\n",
      "Haciendo request a https://api.github.com/repos/ironhack-datalabs/scavenger/contents/49418/.0014.scavengerhunt\n",
      "Haciendo request a https://api.github.com/repos/ironhack-datalabs/scavenger/contents/91701/.0015.scavengerhunt\n",
      "Haciendo request a https://api.github.com/repos/ironhack-datalabs/scavenger/contents/47222/.0016.scavengerhunt\n",
      "Haciendo request a https://api.github.com/repos/ironhack-datalabs/scavenger/contents/70985/.0017.scavengerhunt\n",
      "Haciendo request a https://api.github.com/repos/ironhack-datalabs/scavenger/contents/45525/.0018.scavengerhunt\n",
      "Haciendo request a https://api.github.com/repos/ironhack-datalabs/scavenger/contents/70751/.0019.scavengerhunt\n",
      "Haciendo request a https://api.github.com/repos/ironhack-datalabs/scavenger/contents/55685/.0020.scavengerhunt\n",
      "Haciendo request a https://api.github.com/repos/ironhack-datalabs/scavenger/contents/30351/.0021.scavengerhunt\n",
      "Haciendo request a https://api.github.com/repos/ironhack-datalabs/scavenger/contents/40303/.0022.scavengerhunt\n",
      "Haciendo request a https://api.github.com/repos/ironhack-datalabs/scavenger/contents/55417/.0023.scavengerhunt\n",
      "Haciendo request a https://api.github.com/repos/ironhack-datalabs/scavenger/contents/47222/.0024.scavengerhunt\n"
     ]
    }
   ],
   "source": [
    "archivosotravez_json = list(map(requestGithub,ordenado))"
   ]
  },
  {
   "cell_type": "code",
   "execution_count": 35,
   "metadata": {},
   "outputs": [
    {
     "name": "stdout",
     "output_type": "stream",
     "text": [
      "[b'In\\n', b'data\\n', b'science,\\n', b'80\\n', b'percent\\n', b'of\\n', b'time\\n', b'spent\\n', b'is\\n', b'preparing\\n', b'data,\\n', b'20\\n', b'percent\\n', b'of\\n', b'time\\n', b'is\\n', b'spent\\n', b'complaining\\n', b'about\\n', b'the\\n', b'need\\n', b'to\\n', b'prepare\\n', b'data.\\n']\n"
     ]
    }
   ],
   "source": [
    "nosequenombreponerya = [contenido[\"content\"] for contenido in archivosotravez_json]\n",
    "decodificando = [base64.b64decode(b) for b in nosequenombreponerya]\n",
    "print(decodificando)"
   ]
  },
  {
   "cell_type": "code",
   "execution_count": 36,
   "metadata": {},
   "outputs": [],
   "source": [
    "final = [i.decode(\"UTF-8\") for i in decodificando]"
   ]
  },
  {
   "cell_type": "code",
   "execution_count": 37,
   "metadata": {},
   "outputs": [
    {
     "name": "stdout",
     "output_type": "stream",
     "text": [
      "['In\\n', 'data\\n', 'science,\\n', '80\\n', 'percent\\n', 'of\\n', 'time\\n', 'spent\\n', 'is\\n', 'preparing\\n', 'data,\\n', '20\\n', 'percent\\n', 'of\\n', 'time\\n', 'is\\n', 'spent\\n', 'complaining\\n', 'about\\n', 'the\\n', 'need\\n', 'to\\n', 'prepare\\n', 'data.\\n']\n"
     ]
    }
   ],
   "source": [
    "print(final)"
   ]
  },
  {
   "cell_type": "code",
   "execution_count": 52,
   "metadata": {},
   "outputs": [],
   "source": [
    "frase = [z.replace(\"\\n\",\" \")for z in final]"
   ]
  },
  {
   "cell_type": "code",
   "execution_count": 53,
   "metadata": {},
   "outputs": [],
   "source": [
    "frasefinal = \"\".join(frase)"
   ]
  },
  {
   "cell_type": "code",
   "execution_count": 54,
   "metadata": {},
   "outputs": [
    {
     "name": "stdout",
     "output_type": "stream",
     "text": [
      "In data science, 80 percent of time spent is preparing data, 20 percent of time is spent complaining about the need to prepare data. \n"
     ]
    }
   ],
   "source": [
    "print(frasefinal)"
   ]
  }
 ],
 "metadata": {
  "kernelspec": {
   "display_name": "Python 3",
   "language": "python",
   "name": "python3"
  },
  "language_info": {
   "codemirror_mode": {
    "name": "ipython",
    "version": 3
   },
   "file_extension": ".py",
   "mimetype": "text/x-python",
   "name": "python",
   "nbconvert_exporter": "python",
   "pygments_lexer": "ipython3",
   "version": "3.8.1"
  }
 },
 "nbformat": 4,
 "nbformat_minor": 4
}
