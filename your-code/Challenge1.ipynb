{
 "cells": [
  {
   "cell_type": "code",
   "execution_count": 1,
   "metadata": {},
   "outputs": [
    {
     "data": {
      "text/plain": [
       "True"
      ]
     },
     "execution_count": 1,
     "metadata": {},
     "output_type": "execute_result"
    }
   ],
   "source": [
    "import os\n",
    "from dotenv import load_dotenv\n",
    "import json\n",
    "import requests\n",
    "import re\n",
    "load_dotenv()"
   ]
  },
  {
   "cell_type": "code",
   "execution_count": 2,
   "metadata": {},
   "outputs": [],
   "source": [
    "url_forks = \"/repos/ironhack-datalabs/datamad0120/forks\""
   ]
  },
  {
   "cell_type": "code",
   "execution_count": 3,
   "metadata": {},
   "outputs": [],
   "source": [
    "def requestGithub (endpoint):\n",
    "    token = os.getenv(\"GITHUB_APIKEY\")\n",
    "    if not token:\n",
    "        raise ValueError (\"Necesitas un token\")\n",
    "    direccion=\"https://api.github.com\"\n",
    "    url = direccion+endpoint\n",
    "\n",
    "    print(f\"Haciendo request a {url}\")\n",
    "    headers = {\n",
    "        \"Authorization\": f\"token {token}\"}\n",
    "\n",
    "    res = requests.get(url, headers=headers)\n",
    "    return res.json()"
   ]
  },
  {
   "cell_type": "code",
   "execution_count": 5,
   "metadata": {},
   "outputs": [
    {
     "name": "stdout",
     "output_type": "stream",
     "text": [
      "Haciendo request a https://api.github.com/repos/ironhack-datalabs/datamad0120/forks\n"
     ]
    }
   ],
   "source": [
    "forks = requestGithub(end_forks)"
   ]
  },
  {
   "cell_type": "code",
   "execution_count": 45,
   "metadata": {},
   "outputs": [],
   "source": [
    "idiomas = [idioma[\"languages_url\"] for idioma in forks]\n",
    "idiomasp = [re.findall(r\"/repos.*\", idioma)for idioma in idiomas]\n",
    "listaidiomas = [i[0] for i in idiomasp]"
   ]
  },
  {
   "cell_type": "code",
   "execution_count": 77,
   "metadata": {},
   "outputs": [
    {
     "name": "stdout",
     "output_type": "stream",
     "text": [
      "Haciendo request a https://api.github.com/repos/Nereland/datamad0120/languages\n",
      "Haciendo request a https://api.github.com/repos/lusuelves/datamad0120/languages\n",
      "Haciendo request a https://api.github.com/repos/Clapiniella/datamad0120/languages\n",
      "Haciendo request a https://api.github.com/repos/Teo-Lopez/datamad0120/languages\n",
      "Haciendo request a https://api.github.com/repos/Alejorro/datamad0120/languages\n",
      "Haciendo request a https://api.github.com/repos/lauravillalba/datamad0120/languages\n",
      "Haciendo request a https://api.github.com/repos/fabianlojo/datamad0120/languages\n",
      "Haciendo request a https://api.github.com/repos/vagabundoo/datamad0120-1/languages\n",
      "Haciendo request a https://api.github.com/repos/Shurlena/datamad0120/languages\n",
      "Haciendo request a https://api.github.com/repos/sowe01/datamad0120/languages\n",
      "Haciendo request a https://api.github.com/repos/Bersuan/datamad0120-1/languages\n",
      "Haciendo request a https://api.github.com/repos/SergioGomis/datamad0120/languages\n",
      "Haciendo request a https://api.github.com/repos/guille-ds/datamad0120-1/languages\n",
      "Haciendo request a https://api.github.com/repos/IvanDGregor/datamad0120/languages\n",
      "Haciendo request a https://api.github.com/repos/E2811/datamad0120/languages\n",
      "Haciendo request a https://api.github.com/repos/Cristina6692/datamad0120/languages\n",
      "Haciendo request a https://api.github.com/repos/ireneisdoomed/datamad0120/languages\n",
      "Haciendo request a https://api.github.com/repos/x22a/datamad0120/languages\n",
      "Haciendo request a https://api.github.com/repos/eduman13/datamad0120/languages\n",
      "Haciendo request a https://api.github.com/repos/hector-lovi/datamad0120/languages\n",
      "Haciendo request a https://api.github.com/repos/ricardoafsp/datamad0120-1/languages\n",
      "Haciendo request a https://api.github.com/repos/fernandobreogan/datamad0120/languages\n",
      "Haciendo request a https://api.github.com/repos/meryreddoor/datamad0120/languages\n",
      "Haciendo request a https://api.github.com/repos/jmpchamizo/datamad0120/languages\n",
      "Haciendo request a https://api.github.com/repos/agalvezcorell/datamad0120/languages\n",
      "Haciendo request a https://api.github.com/repos/guillermomar/datamad0120/languages\n",
      "Haciendo request a https://api.github.com/repos/patricrp/datamad0120/languages\n",
      "Haciendo request a https://api.github.com/repos/MdeMaic/datamad0120-labs/languages\n"
     ]
    }
   ],
   "source": [
    "idiomas_json = list(map(requestGithub,listaidiomas))"
   ]
  },
  {
   "cell_type": "code",
   "execution_count": 112,
   "metadata": {},
   "outputs": [
    {
     "data": {
      "text/plain": [
       "{'HTML', 'Jupyter Notebook', 'Python'}"
      ]
     },
     "execution_count": 112,
     "metadata": {},
     "output_type": "execute_result"
    }
   ],
   "source": [
    "set([lenguaje for e in idiomas_json for lenguaje in e.keys()])"
   ]
  },
  {
   "cell_type": "code",
   "execution_count": null,
   "metadata": {},
   "outputs": [],
   "source": []
  }
 ],
 "metadata": {
  "kernelspec": {
   "display_name": "Python 3",
   "language": "python",
   "name": "python3"
  },
  "language_info": {
   "codemirror_mode": {
    "name": "ipython",
    "version": 3
   },
   "file_extension": ".py",
   "mimetype": "text/x-python",
   "name": "python",
   "nbconvert_exporter": "python",
   "pygments_lexer": "ipython3",
   "version": "3.8.1"
  }
 },
 "nbformat": 4,
 "nbformat_minor": 4
}
