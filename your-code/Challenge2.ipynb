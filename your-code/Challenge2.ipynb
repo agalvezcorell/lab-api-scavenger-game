{
 "cells": [
  {
   "cell_type": "code",
   "execution_count": 1,
   "metadata": {},
   "outputs": [
    {
     "data": {
      "text/plain": [
       "True"
      ]
     },
     "execution_count": 1,
     "metadata": {},
     "output_type": "execute_result"
    }
   ],
   "source": [
    "import os\n",
    "from dotenv import load_dotenv\n",
    "import json\n",
    "import requests\n",
    "import re\n",
    "load_dotenv()"
   ]
  },
  {
   "cell_type": "code",
   "execution_count": 21,
   "metadata": {},
   "outputs": [],
   "source": [
    "url_commits = \"/repos/ironhack-datalabs/datamad0120/commits?since='2020-01-20T00:00:50+00:00'\""
   ]
  },
  {
   "cell_type": "code",
   "execution_count": 22,
   "metadata": {},
   "outputs": [],
   "source": [
    "def requestGithub (endpoint):\n",
    "    token = os.getenv(\"GITHUB_APIKEY\")\n",
    "    if not token:\n",
    "        raise ValueError (\"Necesitas un token\")\n",
    "    direccion=\"https://api.github.com\"\n",
    "    url = direccion+endpoint\n",
    "\n",
    "    print(f\"Haciendo request a {url}\")\n",
    "    headers = {\n",
    "        \"Authorization\": f\"token {token}\"}\n",
    "\n",
    "    res = requests.get(url, headers=headers)\n",
    "    return res.json()"
   ]
  },
  {
   "cell_type": "code",
   "execution_count": 23,
   "metadata": {},
   "outputs": [
    {
     "name": "stdout",
     "output_type": "stream",
     "text": [
      "Haciendo request a https://api.github.com/repos/ironhack-datalabs/datamad0120/commits?since='2020-01-20T00:00:50+00:00'\n"
     ]
    }
   ],
   "source": [
    "commits_json = requestGithub(url_commits)"
   ]
  },
  {
   "cell_type": "code",
   "execution_count": 29,
   "metadata": {},
   "outputs": [
    {
     "name": "stdout",
     "output_type": "stream",
     "text": [
      "[{'sha': '6c8dd4ca113cf9dc58d60a04a5e12441a13c08fa', 'node_id': 'MDY6Q29tbWl0MjMzNTc5NDU2OjZjOGRkNGNhMTEzY2Y5ZGM1OGQ2MGEwNGE1ZTEyNDQxYTEzYzA4ZmE=', 'commit': {'author': {'name': 'Clara', 'email': '55156332+Clapiniella@users.noreply.github.com', 'date': '2020-01-23T13:58:34Z'}, 'committer': {'name': 'GitHub', 'email': 'noreply@github.com', 'date': '2020-01-23T13:58:34Z'}, 'message': 'Update README.md', 'tree': {'sha': 'e7160f4564bfe920182fdf0072180ff8ce89130f', 'url': 'https://api.github.com/repos/ironhack-datalabs/datamad0120/git/trees/e7160f4564bfe920182fdf0072180ff8ce89130f'}, 'url': 'https://api.github.com/repos/ironhack-datalabs/datamad0120/git/commits/6c8dd4ca113cf9dc58d60a04a5e12441a13c08fa', 'comment_count': 0, 'verification': {'verified': True, 'reason': 'valid', 'signature': '-----BEGIN PGP SIGNATURE-----\\n\\nwsBcBAABCAAQBQJeKaaKCRBK7hj4Ov3rIwAAdHIIAGe2JdwREMk0k0y2NCjmwcGr\\nRv96wjEWR4dBoXVJdTzYYr/JOaeuLpsrw/QNFsFqKs7A63dH1U7CLC+baDhs2vdJ\\nIqFgGHr7rwuXuE5aOZInxHlQCRT44iNVha5Z66KWC6PBVabks5fegoxhmBetLoa4\\n32TyRHvkRujos8VxM3apnT3Z+fbA132ATchXiMV3im+3jDpUigUkstoL9aWPiP48\\naKCxh3TAlI8xwqy2m2hhgsxxQp09eA6KN/MKPMQzQw52cvXs7gN83TQBymQZl44O\\nnJ5hLI49TabhXLmfjL0CAl1sFUEJSvIZ+Dsmx0rlVbEaMk3naS8nSmQPdNZmua8=\\n=mbLn\\n-----END PGP SIGNATURE-----\\n', 'payload': 'tree e7160f4564bfe920182fdf0072180ff8ce89130f\\nparent 1cd7b23e91644bd7c2c6a241eee16ea21835955d\\nauthor Clara <55156332+Clapiniella@users.noreply.github.com> 1579787914 +0100\\ncommitter GitHub <noreply@github.com> 1579787914 +0100\\n\\nUpdate README.md'}}, 'url': 'https://api.github.com/repos/ironhack-datalabs/datamad0120/commits/6c8dd4ca113cf9dc58d60a04a5e12441a13c08fa', 'html_url': 'https://github.com/ironhack-datalabs/datamad0120/commit/6c8dd4ca113cf9dc58d60a04a5e12441a13c08fa', 'comments_url': 'https://api.github.com/repos/ironhack-datalabs/datamad0120/commits/6c8dd4ca113cf9dc58d60a04a5e12441a13c08fa/comments', 'author': {'login': 'Clapiniella', 'id': 55156332, 'node_id': 'MDQ6VXNlcjU1MTU2MzMy', 'avatar_url': 'https://avatars3.githubusercontent.com/u/55156332?v=4', 'gravatar_id': '', 'url': 'https://api.github.com/users/Clapiniella', 'html_url': 'https://github.com/Clapiniella', 'followers_url': 'https://api.github.com/users/Clapiniella/followers', 'following_url': 'https://api.github.com/users/Clapiniella/following{/other_user}', 'gists_url': 'https://api.github.com/users/Clapiniella/gists{/gist_id}', 'starred_url': 'https://api.github.com/users/Clapiniella/starred{/owner}{/repo}', 'subscriptions_url': 'https://api.github.com/users/Clapiniella/subscriptions', 'organizations_url': 'https://api.github.com/users/Clapiniella/orgs', 'repos_url': 'https://api.github.com/users/Clapiniella/repos', 'events_url': 'https://api.github.com/users/Clapiniella/events{/privacy}', 'received_events_url': 'https://api.github.com/users/Clapiniella/received_events', 'type': 'User', 'site_admin': False}, 'committer': {'login': 'web-flow', 'id': 19864447, 'node_id': 'MDQ6VXNlcjE5ODY0NDQ3', 'avatar_url': 'https://avatars3.githubusercontent.com/u/19864447?v=4', 'gravatar_id': '', 'url': 'https://api.github.com/users/web-flow', 'html_url': 'https://github.com/web-flow', 'followers_url': 'https://api.github.com/users/web-flow/followers', 'following_url': 'https://api.github.com/users/web-flow/following{/other_user}', 'gists_url': 'https://api.github.com/users/web-flow/gists{/gist_id}', 'starred_url': 'https://api.github.com/users/web-flow/starred{/owner}{/repo}', 'subscriptions_url': 'https://api.github.com/users/web-flow/subscriptions', 'organizations_url': 'https://api.github.com/users/web-flow/orgs', 'repos_url': 'https://api.github.com/users/web-flow/repos', 'events_url': 'https://api.github.com/users/web-flow/events{/privacy}', 'received_events_url': 'https://api.github.com/users/web-flow/received_events', 'type': 'User', 'site_admin': False}, 'parents': [{'sha': '1cd7b23e91644bd7c2c6a241eee16ea21835955d', 'url': 'https://api.github.com/repos/ironhack-datalabs/datamad0120/commits/1cd7b23e91644bd7c2c6a241eee16ea21835955d', 'html_url': 'https://github.com/ironhack-datalabs/datamad0120/commit/1cd7b23e91644bd7c2c6a241eee16ea21835955d'}]}]\n"
     ]
    }
   ],
   "source": [
    "print(commits_json)\n",
    "autor = [cm[\"commit\"][\"author\"] [\"name\"]for cm in commits_json]"
   ]
  },
  {
   "cell_type": "code",
   "execution_count": 31,
   "metadata": {},
   "outputs": [
    {
     "name": "stdout",
     "output_type": "stream",
     "text": [
      "['Clara']\n"
     ]
    }
   ],
   "source": [
    "len(commits_json)\n",
    "print(autor)"
   ]
  }
 ],
 "metadata": {
  "kernelspec": {
   "display_name": "Python 3",
   "language": "python",
   "name": "python3"
  },
  "language_info": {
   "codemirror_mode": {
    "name": "ipython",
    "version": 3
   },
   "file_extension": ".py",
   "mimetype": "text/x-python",
   "name": "python",
   "nbconvert_exporter": "python",
   "pygments_lexer": "ipython3",
   "version": "3.8.1"
  }
 },
 "nbformat": 4,
 "nbformat_minor": 4
}
